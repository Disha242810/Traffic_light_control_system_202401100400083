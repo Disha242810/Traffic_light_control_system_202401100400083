{
  "nbformat": 4,
  "nbformat_minor": 0,
  "metadata": {
    "colab": {
      "provenance": []
    },
    "kernelspec": {
      "name": "python3",
      "display_name": "Python 3"
    },
    "language_info": {
      "name": "python"
    }
  },
  "cells": [
    {
      "cell_type": "code",
      "execution_count": 8,
      "metadata": {
        "colab": {
          "base_uri": "https://localhost:8080/"
        },
        "id": "sFD628mlNXa4",
        "outputId": "a6f5882c-f6b8-4a80-b5b0-c08af3fcae81"
      },
      "outputs": [
        {
          "output_type": "stream",
          "name": "stdout",
          "text": [
            "The geenrated time is  393 seconds\n",
            "RED Light - STOP\n",
            "YELLOW Light - GET READY\n",
            "GREEN Light - GO\n",
            "RED Light - STOP\n",
            "YELLOW Light - GET READY\n",
            "GREEN Light - GO\n",
            "RED Light - STOP\n",
            "YELLOW Light - GET READY\n",
            "GREEN Light - GO\n",
            "RED Light - STOP\n",
            "YELLOW Light - GET READY\n",
            "GREEN Light - GO\n",
            "RED Light - STOP\n",
            "Last State: RED - STOP\n",
            "Number of States Passed: 12\n"
          ]
        }
      ],
      "source": [
        "import time  # Importing time module to simulate delay in light changes\n",
        "import random  # Importing random module to generate random numbers\n",
        "\n",
        "# Function to simulate traffic light system\n",
        "def traffic_light_system():\n",
        "    state_count = 0  # Counter to track the number of states passed\n",
        "    random_number = random.randint(100, 696)  # Generate a random number within the range 100 to 696\n",
        "    print(\"The geenrated time is\", random_number, \"seconds\")\n",
        "    last_state = \"\"  # Variable to store the last state\n",
        "    total_time = 0  # Variable to track total time elapsed\n",
        "\n",
        "    while state_count < random_number:  # Run loop until the random number is reached\n",
        "\n",
        "        # RED Light - Stop\n",
        "        print(\"RED Light - STOP\")\n",
        "        last_state = \"RED - STOP\"\n",
        "        red_time = 40  # Time taken for RED light\n",
        "        total_time += red_time\n",
        "        if total_time >= random_number:\n",
        "            break\n",
        "        time.sleep(5)  # Simulate waiting time\n",
        "        state_count += 1\n",
        "\n",
        "        # YELLOW Light - Get Ready\n",
        "        print(\"YELLOW Light - GET READY\")\n",
        "        last_state = \"YELLOW - GET READY\"\n",
        "        yellow_time = 15  # Time taken for YELLOW light\n",
        "        total_time += yellow_time\n",
        "        if total_time >= random_number:\n",
        "            break\n",
        "        time.sleep(2)  # Simulate waiting time\n",
        "        state_count += 1\n",
        "\n",
        "        # GREEN Light - Go\n",
        "        print(\"GREEN Light - GO\")\n",
        "        last_state = \"GREEN - GO\"\n",
        "        green_time = 40  # Time taken for GREEN light\n",
        "        total_time += green_time\n",
        "        if total_time >= random_number:\n",
        "            break\n",
        "        time.sleep(5)  # Simulate waiting time\n",
        "        state_count += 1\n",
        "\n",
        "    time_left = max(0, random_number - total_time)  # Calculate remaining time\n",
        "\n",
        "    return last_state, state_count, time_left\n",
        "\n",
        "# Call the function to start traffic light simulation\n",
        "last_state, states_passed, time_left = traffic_light_system()\n",
        "print(f\"Last State: {last_state}\")\n",
        "print(f\"Number of States Passed: {states_passed}\")"
      ]
    }
  ]
}